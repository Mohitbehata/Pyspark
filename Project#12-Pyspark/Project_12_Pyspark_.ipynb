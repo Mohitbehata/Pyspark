{
  "nbformat": 4,
  "nbformat_minor": 0,
  "metadata": {
    "colab": {
      "provenance": []
    },
    "kernelspec": {
      "name": "python3",
      "display_name": "Python 3"
    },
    "language_info": {
      "name": "python"
    }
  },
  "cells": [
    {
      "cell_type": "markdown",
      "source": [
        "Source: https://towardsdatascience.com/pyspark-on-google-colab-101-d31830b238be"
      ],
      "metadata": {
        "id": "CPOtbdI8Xkc8"
      }
    },
    {
      "cell_type": "markdown",
      "metadata": {
        "id": "sCJilX-ybl7c"
      },
      "source": [
        "# PySpark on Google Colab 101"
      ]
    },
    {
      "cell_type": "markdown",
      "metadata": {
        "id": "o8uL463oFKkv"
      },
      "source": [
        "In this article, we will see how we can run PySpark in a Google Colaboratory notebook. We will also perform some basic data exploratory tasks common to most data science problems. So, let’s get cracking!"
      ]
    },
    {
      "cell_type": "code",
      "metadata": {
        "id": "ixLSds_jw4Ff"
      },
      "source": [
        "!apt-get install openjdk-8-jdk-headless -qq > /dev/null"
      ],
      "execution_count": 100,
      "outputs": []
    },
    {
      "cell_type": "code",
      "metadata": {
        "id": "WA4ebxjl8IR3",
        "colab": {
          "base_uri": "https://localhost:8080/"
        },
        "outputId": "467f302a-af85-4316-e782-473f7f783258"
      },
      "source": [
        "!wget https://archive.apache.org/dist/spark/spark-3.2.4/spark-3.2.4-bin-hadoop2.7.tgz"
      ],
      "execution_count": 101,
      "outputs": [
        {
          "output_type": "stream",
          "name": "stdout",
          "text": [
            "--2023-12-09 02:04:45--  https://archive.apache.org/dist/spark/spark-3.2.4/spark-3.2.4-bin-hadoop2.7.tgz\n",
            "Resolving archive.apache.org (archive.apache.org)... 65.108.204.189, 2a01:4f9:1a:a084::2\n",
            "Connecting to archive.apache.org (archive.apache.org)|65.108.204.189|:443... connected.\n",
            "HTTP request sent, awaiting response... 200 OK\n",
            "Length: 272938638 (260M) [application/x-gzip]\n",
            "Saving to: ‘spark-3.2.4-bin-hadoop2.7.tgz.3’\n",
            "\n",
            "spark-3.2.4-bin-had 100%[===================>] 260.29M  18.8MB/s    in 18s     \n",
            "\n",
            "2023-12-09 02:05:03 (14.6 MB/s) - ‘spark-3.2.4-bin-hadoop2.7.tgz.3’ saved [272938638/272938638]\n",
            "\n"
          ]
        }
      ]
    },
    {
      "cell_type": "code",
      "metadata": {
        "id": "7otLhujY8IUy"
      },
      "source": [
        "!tar xf spark-3.2.4-bin-hadoop2.7.tgz"
      ],
      "execution_count": 102,
      "outputs": []
    },
    {
      "cell_type": "code",
      "metadata": {
        "id": "cSZL-2_T8IYH"
      },
      "source": [
        "!pip install -q findspark"
      ],
      "execution_count": 103,
      "outputs": []
    },
    {
      "cell_type": "code",
      "metadata": {
        "id": "_Rvkvf2Vw6Fo"
      },
      "source": [
        "import os\n",
        "os.environ[\"JAVA_HOME\"] = \"/usr/lib/jvm/java-8-openjdk-amd64\"\n",
        "os.environ[\"SPARK_HOME\"] = \"/content/spark-3.2.4-bin-hadoop2.7\""
      ],
      "execution_count": 104,
      "outputs": []
    },
    {
      "cell_type": "code",
      "metadata": {
        "id": "alfg07gY8759"
      },
      "source": [
        "import findspark\n",
        "findspark.init()"
      ],
      "execution_count": 105,
      "outputs": []
    },
    {
      "cell_type": "code",
      "metadata": {
        "id": "0X6A0Wip73Kr"
      },
      "source": [
        "from pyspark.sql import SparkSession\n",
        "# spark = SparkSession.builder.master(\"local[*]\").getOrCreate()\n",
        "spark = SparkSession.builder\\\n",
        "        .master(\"local\")\\\n",
        "        .appName(\"Colab\")\\\n",
        "        .config('spark.ui.port', '4050')\\\n",
        "        .getOrCreate()"
      ],
      "execution_count": 106,
      "outputs": []
    },
    {
      "cell_type": "code",
      "metadata": {
        "id": "hkPDlNNO9RF-",
        "colab": {
          "base_uri": "https://localhost:8080/",
          "height": 220
        },
        "outputId": "fdf2828e-2e3d-44c4-b175-896b55c4d1f2"
      },
      "source": [
        "spark"
      ],
      "execution_count": 107,
      "outputs": [
        {
          "output_type": "execute_result",
          "data": {
            "text/plain": [
              "<pyspark.sql.session.SparkSession at 0x7b6b785df100>"
            ],
            "text/html": [
              "\n",
              "            <div>\n",
              "                <p><b>SparkSession - in-memory</b></p>\n",
              "                \n",
              "        <div>\n",
              "            <p><b>SparkContext</b></p>\n",
              "\n",
              "            <p><a href=\"http://8d4b944c5ff3:4050\">Spark UI</a></p>\n",
              "\n",
              "            <dl>\n",
              "              <dt>Version</dt>\n",
              "                <dd><code>v3.2.4</code></dd>\n",
              "              <dt>Master</dt>\n",
              "                <dd><code>local</code></dd>\n",
              "              <dt>AppName</dt>\n",
              "                <dd><code>Colab</code></dd>\n",
              "            </dl>\n",
              "        </div>\n",
              "        \n",
              "            </div>\n",
              "        "
            ]
          },
          "metadata": {},
          "execution_count": 107
        }
      ]
    },
    {
      "cell_type": "code",
      "metadata": {
        "id": "aFlJRezL9txG",
        "colab": {
          "base_uri": "https://localhost:8080/"
        },
        "outputId": "439bb2a5-db2d-4cbf-a687-882d06e028bb"
      },
      "source": [
        "!wget --continue https://raw.githubusercontent.com/GarvitArya/pyspark-demo/main/sample_books.json -O /content/sample_books.json"
      ],
      "execution_count": 108,
      "outputs": [
        {
          "output_type": "stream",
          "name": "stdout",
          "text": [
            "--2023-12-09 02:05:14--  https://raw.githubusercontent.com/GarvitArya/pyspark-demo/main/sample_books.json\n",
            "Resolving raw.githubusercontent.com (raw.githubusercontent.com)... 185.199.108.133, 185.199.109.133, 185.199.110.133, ...\n",
            "Connecting to raw.githubusercontent.com (raw.githubusercontent.com)|185.199.108.133|:443... connected.\n",
            "HTTP request sent, awaiting response... 416 Range Not Satisfiable\n",
            "\n",
            "    The file is already fully retrieved; nothing to do.\n",
            "\n"
          ]
        }
      ]
    },
    {
      "cell_type": "code",
      "source": [
        "!wget https://gist.githubusercontent.com/jaidevd/23aef12e9bf56c618c41/raw/c05e98672b8d52fa0cb94aad80f75eb78342e5d4/books.csv"
      ],
      "metadata": {
        "colab": {
          "base_uri": "https://localhost:8080/"
        },
        "id": "__AwDuH4GdAD",
        "outputId": "4b944d19-2022-4a7b-ee89-08a4ee0625f1"
      },
      "execution_count": 109,
      "outputs": [
        {
          "output_type": "stream",
          "name": "stdout",
          "text": [
            "--2023-12-09 02:05:14--  https://gist.githubusercontent.com/jaidevd/23aef12e9bf56c618c41/raw/c05e98672b8d52fa0cb94aad80f75eb78342e5d4/books.csv\n",
            "Resolving gist.githubusercontent.com (gist.githubusercontent.com)... 185.199.108.133, 185.199.109.133, 185.199.110.133, ...\n",
            "Connecting to gist.githubusercontent.com (gist.githubusercontent.com)|185.199.108.133|:443... connected.\n",
            "HTTP request sent, awaiting response... 200 OK\n",
            "Length: 12151 (12K) [text/plain]\n",
            "Saving to: ‘books.csv.3’\n",
            "\n",
            "\rbooks.csv.3           0%[                    ]       0  --.-KB/s               \rbooks.csv.3         100%[===================>]  11.87K  --.-KB/s    in 0s      \n",
            "\n",
            "2023-12-09 02:05:14 (148 MB/s) - ‘books.csv.3’ saved [12151/12151]\n",
            "\n"
          ]
        }
      ]
    },
    {
      "cell_type": "code",
      "metadata": {
        "id": "zEA-RW5Sw6aD"
      },
      "source": [
        "\n",
        "# Read JSON file into dataframe\n",
        "df = spark.read.json(\"/content/sample_books.json\")\n"
      ],
      "execution_count": 110,
      "outputs": []
    },
    {
      "cell_type": "code",
      "metadata": {
        "id": "0thOUfXb96AI",
        "colab": {
          "base_uri": "https://localhost:8080/"
        },
        "outputId": "e38e8739-98cb-4081-ba15-455ee726155e"
      },
      "source": [
        "df.printSchema()\n"
      ],
      "execution_count": 111,
      "outputs": [
        {
          "output_type": "stream",
          "name": "stdout",
          "text": [
            "root\n",
            " |-- author: string (nullable = true)\n",
            " |-- edition: string (nullable = true)\n",
            " |-- price: double (nullable = true)\n",
            " |-- title: string (nullable = true)\n",
            " |-- year_written: long (nullable = true)\n",
            "\n"
          ]
        }
      ]
    },
    {
      "cell_type": "code",
      "metadata": {
        "id": "b6ZlToW096NF",
        "colab": {
          "base_uri": "https://localhost:8080/"
        },
        "outputId": "d847bdfc-ad33-4531-aa06-4c1e47c18aa9"
      },
      "source": [
        "df.show(20,False)"
      ],
      "execution_count": 112,
      "outputs": [
        {
          "output_type": "stream",
          "name": "stdout",
          "text": [
            "+--------------------+-----------------+-----+-----------------------------+------------+\n",
            "|author              |edition          |price|title                        |year_written|\n",
            "+--------------------+-----------------+-----+-----------------------------+------------+\n",
            "|Austen, Jane        |Penguin          |18.2 |Northanger Abbey             |1814        |\n",
            "|Tolstoy, Leo        |Penguin          |12.7 |War and Peace                |1865        |\n",
            "|Tolstoy, Leo        |Penguin          |13.5 |Anna Karenina                |1875        |\n",
            "|Woolf, Virginia     |Harcourt Brace   |25.0 |Mrs. Dalloway                |1925        |\n",
            "|Cunnningham, Michael|Harcourt Brace   |12.35|The Hours                    |1999        |\n",
            "|Twain, Mark         |Penguin          |5.76 |Huckleberry Finn             |1865        |\n",
            "|Dickens, Charles    |Random House     |5.75 |Bleak House                  |1870        |\n",
            "|Twain, Mark         |Random House     |7.75 |Tom Sawyer                   |1862        |\n",
            "|Woolf, Virginia     |Penguin          |29.0 |A Room of One's Own          |1922        |\n",
            "|Rowling, J.K.       |Harcourt Brace   |19.95|Harry Potter                 |2000        |\n",
            "|Marquez             |Harper  Perennial|14.0 |One Hundred Years of Solitude|1967        |\n",
            "|Shakespeare         |Signet  Classics |7.95 |Hamlet, Prince of Denmark    |1603        |\n",
            "|Tolkien, J.R.       |Penguin          |27.45|Lord of the Rings            |1937        |\n",
            "+--------------------+-----------------+-----+-----------------------------+------------+\n",
            "\n"
          ]
        }
      ]
    },
    {
      "cell_type": "code",
      "source": [
        "df.count()"
      ],
      "metadata": {
        "colab": {
          "base_uri": "https://localhost:8080/"
        },
        "id": "flI5gQh6J_rn",
        "outputId": "1a515f4f-9ce2-40f6-f5c5-c1dc1804eb8e"
      },
      "execution_count": 113,
      "outputs": [
        {
          "output_type": "execute_result",
          "data": {
            "text/plain": [
              "13"
            ]
          },
          "metadata": {},
          "execution_count": 113
        }
      ]
    },
    {
      "cell_type": "code",
      "metadata": {
        "id": "OeAe8N4a-ckh",
        "colab": {
          "base_uri": "https://localhost:8080/"
        },
        "outputId": "554d97e2-ba98-48c4-bb02-b8cd5f3f8a52"
      },
      "source": [
        "df.select(\"title\", \"price\", \"year_written\").show(5)"
      ],
      "execution_count": 114,
      "outputs": [
        {
          "output_type": "stream",
          "name": "stdout",
          "text": [
            "+----------------+-----+------------+\n",
            "|           title|price|year_written|\n",
            "+----------------+-----+------------+\n",
            "|Northanger Abbey| 18.2|        1814|\n",
            "|   War and Peace| 12.7|        1865|\n",
            "|   Anna Karenina| 13.5|        1875|\n",
            "|   Mrs. Dalloway| 25.0|        1925|\n",
            "|       The Hours|12.35|        1999|\n",
            "+----------------+-----+------------+\n",
            "only showing top 5 rows\n",
            "\n"
          ]
        }
      ]
    },
    {
      "cell_type": "code",
      "metadata": {
        "id": "b4U6xkov-cnG"
      },
      "source": [
        "df_filtered = df.filter(\"year_written > 1950 AND price > 10 AND title IS NOT NULL\")"
      ],
      "execution_count": 115,
      "outputs": []
    },
    {
      "cell_type": "code",
      "metadata": {
        "id": "plXRfFBq-cpu",
        "colab": {
          "base_uri": "https://localhost:8080/"
        },
        "outputId": "dc2c5215-0080-4982-ca4b-f22a254bf016"
      },
      "source": [
        "df_filtered.select(\"title\", \"price\", \"year_written\").show(5, False)"
      ],
      "execution_count": 116,
      "outputs": [
        {
          "output_type": "stream",
          "name": "stdout",
          "text": [
            "+-----------------------------+-----+------------+\n",
            "|title                        |price|year_written|\n",
            "+-----------------------------+-----+------------+\n",
            "|The Hours                    |12.35|1999        |\n",
            "|Harry Potter                 |19.95|2000        |\n",
            "|One Hundred Years of Solitude|14.0 |1967        |\n",
            "+-----------------------------+-----+------------+\n",
            "\n"
          ]
        }
      ]
    },
    {
      "cell_type": "code",
      "metadata": {
        "id": "GptKFTU6BMDw",
        "colab": {
          "base_uri": "https://localhost:8080/"
        },
        "outputId": "3b082b34-9e05-4ce2-efb3-76296fcc26e6"
      },
      "source": [
        "df_filtered.count()"
      ],
      "execution_count": 117,
      "outputs": [
        {
          "output_type": "execute_result",
          "data": {
            "text/plain": [
              "3"
            ]
          },
          "metadata": {},
          "execution_count": 117
        }
      ]
    },
    {
      "cell_type": "code",
      "metadata": {
        "id": "FGy_2ERoCNWk",
        "colab": {
          "base_uri": "https://localhost:8080/"
        },
        "outputId": "fe7a9178-7707-4f2d-b98a-2b29c0a2b7c5"
      },
      "source": [
        "df_filtered.show(20, False)"
      ],
      "execution_count": 118,
      "outputs": [
        {
          "output_type": "stream",
          "name": "stdout",
          "text": [
            "+--------------------+-----------------+-----+-----------------------------+------------+\n",
            "|author              |edition          |price|title                        |year_written|\n",
            "+--------------------+-----------------+-----+-----------------------------+------------+\n",
            "|Cunnningham, Michael|Harcourt Brace   |12.35|The Hours                    |1999        |\n",
            "|Rowling, J.K.       |Harcourt Brace   |19.95|Harry Potter                 |2000        |\n",
            "|Marquez             |Harper  Perennial|14.0 |One Hundred Years of Solitude|1967        |\n",
            "+--------------------+-----------------+-----+-----------------------------+------------+\n",
            "\n"
          ]
        }
      ]
    },
    {
      "cell_type": "code",
      "metadata": {
        "id": "86qDvFyPCNZm",
        "colab": {
          "base_uri": "https://localhost:8080/"
        },
        "outputId": "125fdb89-c40d-45e6-fa41-d00cb49afa1e"
      },
      "source": [
        "df_filtered.select(\"title\", \"year_written\").filter(\"title LIKE '%Harry Potter%'\").distinct().show(20, False)\n"
      ],
      "execution_count": 119,
      "outputs": [
        {
          "output_type": "stream",
          "name": "stdout",
          "text": [
            "+------------+------------+\n",
            "|title       |year_written|\n",
            "+------------+------------+\n",
            "|Harry Potter|2000        |\n",
            "+------------+------------+\n",
            "\n"
          ]
        }
      ]
    },
    {
      "cell_type": "code",
      "metadata": {
        "id": "JB-dU5rqE2vj",
        "colab": {
          "base_uri": "https://localhost:8080/"
        },
        "outputId": "47de7f79-2e86-4615-922f-b3c275751f58"
      },
      "source": [
        "from pyspark.sql.functions import max\n",
        "# Find the costliest book\n",
        "\n",
        "maxValue = df_filtered.agg(max(\"price\")).collect()[0][0]\n",
        "print(\"maxValue: \",maxValue)\n",
        "df_filtered.select(\"title\",\"price\").filter(df.price == maxValue).show(20, False)"
      ],
      "execution_count": 120,
      "outputs": [
        {
          "output_type": "stream",
          "name": "stdout",
          "text": [
            "maxValue:  19.95\n",
            "+------------+-----+\n",
            "|title       |price|\n",
            "+------------+-----+\n",
            "|Harry Potter|19.95|\n",
            "+------------+-----+\n",
            "\n"
          ]
        }
      ]
    },
    {
      "cell_type": "code",
      "source": [
        "# Read csv file into dataframe for Project#12\n",
        "df2 = spark.read.option(\"header\", True).csv(\"/content/books.csv\")"
      ],
      "metadata": {
        "id": "_piXuZ43GzLJ"
      },
      "execution_count": 121,
      "outputs": []
    },
    {
      "cell_type": "code",
      "source": [
        "df2.printSchema()"
      ],
      "metadata": {
        "colab": {
          "base_uri": "https://localhost:8080/"
        },
        "id": "cc5SdwQJLhEY",
        "outputId": "443c155e-1eb3-434f-f0cc-1f5c63c7fd99"
      },
      "execution_count": 122,
      "outputs": [
        {
          "output_type": "stream",
          "name": "stdout",
          "text": [
            "root\n",
            " |-- Title: string (nullable = true)\n",
            " |-- Author: string (nullable = true)\n",
            " |-- Genre: string (nullable = true)\n",
            " |-- Height: string (nullable = true)\n",
            " |-- Publisher: string (nullable = true)\n",
            "\n"
          ]
        }
      ]
    },
    {
      "cell_type": "code",
      "source": [
        "df2.show(5,truncate=False)"
      ],
      "metadata": {
        "colab": {
          "base_uri": "https://localhost:8080/"
        },
        "id": "onIJCiNILsAI",
        "outputId": "b7a4f5f6-814b-4a2f-cd42-e33792f6d679"
      },
      "execution_count": 123,
      "outputs": [
        {
          "output_type": "stream",
          "name": "stdout",
          "text": [
            "+------------------------+----------------+-----------------+------+-------------+\n",
            "|Title                   |Author          |Genre            |Height|Publisher    |\n",
            "+------------------------+----------------+-----------------+------+-------------+\n",
            "|Fundamentals of Wavelets|Goswami, Jaideva|signal_processing|228   |Wiley        |\n",
            "|Data Smart              |Foreman, John   |data_science     |235   |Wiley        |\n",
            "|God Created the Integers|Hawking, Stephen|mathematics      |197   |Penguin      |\n",
            "|Superfreakonomics       |Dubner, Stephen |economics        |179   |HarperCollins|\n",
            "|Orientalism             |Said, Edward    |history          |197   |Penguin      |\n",
            "+------------------------+----------------+-----------------+------+-------------+\n",
            "only showing top 5 rows\n",
            "\n"
          ]
        }
      ]
    },
    {
      "cell_type": "code",
      "source": [
        "print(\"Column Names:\", df2.columns)"
      ],
      "metadata": {
        "colab": {
          "base_uri": "https://localhost:8080/"
        },
        "id": "FxZm-g-qHHqd",
        "outputId": "0e1739ea-36d9-4412-d9d2-fe2a1b79dd27"
      },
      "execution_count": 124,
      "outputs": [
        {
          "output_type": "stream",
          "name": "stdout",
          "text": [
            "Column Names: ['Title', 'Author', 'Genre', 'Height', 'Publisher']\n"
          ]
        }
      ]
    },
    {
      "cell_type": "code",
      "source": [
        "df2.count()"
      ],
      "metadata": {
        "colab": {
          "base_uri": "https://localhost:8080/"
        },
        "id": "4im5YSFpL82t",
        "outputId": "6c950b13-df26-41ba-84ff-8a72853eb86f"
      },
      "execution_count": 125,
      "outputs": [
        {
          "output_type": "execute_result",
          "data": {
            "text/plain": [
              "211"
            ]
          },
          "metadata": {},
          "execution_count": 125
        }
      ]
    },
    {
      "cell_type": "code",
      "source": [
        "# a. Find all books published by Penguin.\n",
        "penguin_books = df2.filter(col(\"Publisher\") == \"Penguin\")\n",
        "penguin_books.show()\n"
      ],
      "metadata": {
        "colab": {
          "base_uri": "https://localhost:8080/"
        },
        "id": "2S2DBi3QEt6S",
        "outputId": "0ec6c13d-eaec-4ad1-b69a-5761bf3c2e7d"
      },
      "execution_count": 126,
      "outputs": [
        {
          "output_type": "stream",
          "name": "stdout",
          "text": [
            "+--------------------+------------------+------------+------+---------+\n",
            "|               Title|            Author|       Genre|Height|Publisher|\n",
            "+--------------------+------------------+------------+------+---------+\n",
            "|God Created the I...|  Hawking, Stephen| mathematics|   197|  Penguin|\n",
            "|         Orientalism|      Said, Edward|     history|   197|  Penguin|\n",
            "|Drunkard's Walk, The| Mlodinow, Leonard|     science|   197|  Penguin|\n",
            "|How to Think Like...|  Konnikova, Maria|  psychology|   240|  Penguin|\n",
            "|   Age of Wrath, The|    Eraly, Abraham|     history|   238|  Penguin|\n",
            "|New Machiavelli, The|      Wells, H. G.|     fiction|   180|  Penguin|\n",
            "|Physics & Philosophy|Heisenberg, Werner|     science|   197|  Penguin|\n",
            "|Signal and the No...|      Silver, Nate|data_science|   233|  Penguin|\n",
            "|Beautiful and the...|   Deb, Siddhartha|  nonfiction|   198|  Penguin|\n",
            "|       Outsider, The|     Camus, Albert|     fiction|   198|  Penguin|\n",
            "| Tao of Physics, The|    Capra, Fritjof|     science|   179|  Penguin|\n",
            "|Return of the Pri...|         Rand, Ayn|  philosophy|   202|  Penguin|\n",
            "|  Russian Journal, A|   Steinbeck, John|  nonfiction|   196|  Penguin|\n",
            "|        Freakonomics|   Dubner, Stephen|   economics|   197|  Penguin|\n",
            "|  Journal of a Novel|   Steinbeck, John|     fiction|   196|  Penguin|\n",
            "|Once There Was a War|   Steinbeck, John|  nonfiction|   196|  Penguin|\n",
            "|   Moon is Down, The|   Steinbeck, John|     fiction|   196|  Penguin|\n",
            "|Crime and Punishment|Dostoevsky, Fyodor|     fiction|   180|  Penguin|\n",
            "|      Sea of Poppies|     Ghosh, Amitav|     fiction|   197|  Penguin|\n",
            "|Idea of Justice, The|      Sen, Amartya|  nonfiction|   212|  Penguin|\n",
            "+--------------------+------------------+------------+------+---------+\n",
            "only showing top 20 rows\n",
            "\n"
          ]
        }
      ]
    },
    {
      "cell_type": "code",
      "source": [
        "# b. Find 10 longest book titles.\n",
        "from pyspark.sql.functions import col, length\n",
        "\n",
        "# Find 10 longest book titles\n",
        "longest_titles = df2.orderBy(length(\"title\").desc()).limit(10)\n",
        "longest_titles.show()"
      ],
      "metadata": {
        "colab": {
          "base_uri": "https://localhost:8080/"
        },
        "id": "_u797Z31EuEf",
        "outputId": "a982af1c-d468-436a-9613-4f4760cb5d3b"
      },
      "execution_count": 127,
      "outputs": [
        {
          "output_type": "stream",
          "name": "stdout",
          "text": [
            "+--------------------+------------------+-----------------+------+--------------+\n",
            "|               Title|            Author|            Genre|Height|     Publisher|\n",
            "+--------------------+------------------+-----------------+------+--------------+\n",
            "|Clash of Civiliza...|Huntington, Samuel|          history|   228|Simon&Schuster|\n",
            "|Structure & Inter...|   Sussman, Gerald| computer_science|   240|     MIT Press|\n",
            "|Empire of the Mug...|  Rutherford, Alex|          history|   180|          null|\n",
            "|Nature of Statist...|  Vapnik, Vladimir|     data_science|   230|      Springer|\n",
            "|Empire of the Mug...|  Rutherford, Alex|          history|   180|          null|\n",
            "|Image Processing ...|       Shih, Frank|signal_processing|   241|           CRC|\n",
            "|Empire of the Mug...|  Rutherford, Alex|          history|   180|          null|\n",
            "|Empire of the Mug...|  Rutherford, Alex|          history|   180|          null|\n",
            "|Maugham's Collect...|Maugham, William S|          fiction|   171|       Vintage|\n",
            "|Zen & The Art of ...|    Pirsig, Robert|       philosophy|   172|       Vintage|\n",
            "+--------------------+------------------+-----------------+------+--------------+\n",
            "\n"
          ]
        }
      ]
    },
    {
      "cell_type": "code",
      "source": [
        "from pyspark.sql.functions import col, desc\n",
        "\n",
        "# c. Find the author with the greatest number of books\n",
        "author_counts = df2.groupBy(\"author\").count().orderBy(desc(\"count\"))\n",
        "\n",
        "# Check if there are any authors with counts\n",
        "if author_counts.count() > 0:\n",
        "    author_with_most_books = author_counts.first()[\"author\"]\n",
        "\n",
        "    # Filter books by the author with the greatest number of books\n",
        "    books_by_author = df2.filter(col(\"author\") == author_with_most_books)\n",
        "    books_by_author.show()\n",
        "else:\n",
        "    print(\"No data available.\")"
      ],
      "metadata": {
        "colab": {
          "base_uri": "https://localhost:8080/"
        },
        "id": "fYlfD4GDEuLN",
        "outputId": "3fafa661-eb84-4b15-9f4e-62c789b511a7"
      },
      "execution_count": 128,
      "outputs": [
        {
          "output_type": "stream",
          "name": "stdout",
          "text": [
            "+-----+------+-----+------+---------+\n",
            "|Title|Author|Genre|Height|Publisher|\n",
            "+-----+------+-----+------+---------+\n",
            "+-----+------+-----+------+---------+\n",
            "\n"
          ]
        }
      ]
    },
    {
      "cell_type": "code",
      "source": [
        "\n",
        "# d. Find books included in the genre with the greatest number of books.\n",
        "genre_with_most_books = df2.groupBy(\"genre\").count().orderBy(desc(\"count\")).first()[\"genre\"]\n",
        "books_in_genre = df2.filter(col(\"genre\") == genre_with_most_books)\n",
        "books_in_genre.show()\n",
        "\n"
      ],
      "metadata": {
        "colab": {
          "base_uri": "https://localhost:8080/"
        },
        "id": "IFLgpThKEuQr",
        "outputId": "578c036f-71ec-40d2-83e3-94ed358cae85"
      },
      "execution_count": 129,
      "outputs": [
        {
          "output_type": "stream",
          "name": "stdout",
          "text": [
            "+--------------------+-------------------+-------+------+-------------+\n",
            "|               Title|             Author|  Genre|Height|    Publisher|\n",
            "+--------------------+-------------------+-------+------+-------------+\n",
            "| Slaughterhouse Five|     Vonnegut, Kurt|fiction|   198| Random House|\n",
            "|          Trial, The|       Kafka, Frank|fiction|   198| Random House|\n",
            "|New Machiavelli, The|       Wells, H. G.|fiction|   180|      Penguin|\n",
            "|       Outsider, The|      Camus, Albert|fiction|   198|      Penguin|\n",
            "|Complete Sherlock...|Doyle, Arthur Conan|fiction|   176| Random House|\n",
            "|Complete Sherlock...|Doyle, Arthur Conan|fiction|   176| Random House|\n",
            "|Pillars of the Ea...|       Follett, Ken|fiction|   176| Random House|\n",
            "| Farewell to Arms, A|  Hemingway, Ernest|fiction|   179|         Rupa|\n",
            "|        Veteran, The| Forsyth, Frederick|fiction|   177|   Transworld|\n",
            "|   False Impressions|    Archer, Jeffery|fiction|   177|          Pan|\n",
            "|       Jurassic Park|  Crichton, Michael|fiction|   174| Random House|\n",
            "|Tales of Mystery ...|   Poe, Edgar Allen|fiction|   172|HarperCollins|\n",
            "|         Asami Asami|     Deshpande, P L|fiction|   205|         Mauj|\n",
            "|  Journal of a Novel|    Steinbeck, John|fiction|   196|      Penguin|\n",
            "|   Moon is Down, The|    Steinbeck, John|fiction|   196|      Penguin|\n",
            "|       Brethren, The|      Grisham, John|fiction|   174| Random House|\n",
            "|     In a Free State|     Naipaul, V. S.|fiction|   196|         Rupa|\n",
            "|            Catch 22|     Heller, Joseph|fiction|   178| Random House|\n",
            "|Amulet of Samarka...|   Stroud, Jonathan|fiction|   179| Random House|\n",
            "|Crime and Punishment| Dostoevsky, Fyodor|fiction|   180|      Penguin|\n",
            "+--------------------+-------------------+-------+------+-------------+\n",
            "only showing top 20 rows\n",
            "\n"
          ]
        }
      ]
    },
    {
      "cell_type": "code",
      "source": [
        "# e. Find all records with at least one of five columns that has null in it.\n",
        "from pyspark.sql.functions import col\n",
        "\n",
        "# Find all records with at least one null value in the specified columns\n",
        "records_with_null = df2.filter(col(\"height\").isNull() | col(\"title\").isNull() | col(\"author\").isNull() | col(\"publisher\").isNull() | col(\"genre\").isNull())\n",
        "records_with_null.show()\n"
      ],
      "metadata": {
        "colab": {
          "base_uri": "https://localhost:8080/"
        },
        "id": "1H4y0XZFFZHl",
        "outputId": "77096475-1a63-469f-c449-2ecfd30bfe96"
      },
      "execution_count": 130,
      "outputs": [
        {
          "output_type": "stream",
          "name": "stdout",
          "text": [
            "+--------------------+--------------------+----------+------+-------------+\n",
            "|               Title|              Author|     Genre|Height|    Publisher|\n",
            "+--------------------+--------------------+----------+------+-------------+\n",
            "|      Beyond Degrees|                null|nonfiction|   222|HarperCollins|\n",
            "|World's Greatest ...|                null|   history|   210|         null|\n",
            "|Case of the Lame ...|Gardner, Earle St...|   fiction|   179|         null|\n",
            "|World's Greatest ...|                null|   fiction|   217|        Jaico|\n",
            "|    Talking Straight|         Iacoca, Lee|nonfiction|   175|         null|\n",
            "|Phantom of Manhat...|  Forsyth, Frederick|   fiction|   180|         null|\n",
            "|Selected Short St...|                null|   fiction|   215|        Jaico|\n",
            "| Karl Marx Biography|                null|nonfiction|   162|         null|\n",
            "|         Half A Life|        Naipaul, V S|   fiction|   196|         null|\n",
            "|Discovery of Indi...|   Nehru, Jawaharlal|   history|   230|         null|\n",
            "|              Apulki|      Deshpande, P L|nonfiction|   211|         null|\n",
            "|    Unpopular Essays|   Russell, Bertrand|philosophy|   198|         null|\n",
            "|       Deceiver, The|  Forsyth, Frederick|   fiction|   178|         null|\n",
            "|Veil: Secret Wars...|       Woodward, Bob|   history|   171|         null|\n",
            "|         Char Shabda|      Deshpande, P L|nonfiction|   214|         null|\n",
            "| Rosy is My Relative|     Durrell, Gerald|   fiction|   176|         null|\n",
            "|Moon and Sixpence...|  Maugham, William S|   fiction|   180|         null|\n",
            "|Political Philoso...|                null|philosophy|   162|         null|\n",
            "|Short History of ...|          Wells, H G|   history|   197|         null|\n",
            "|Trembling of a Le...|  Maugham, William S|   fiction|   205|         null|\n",
            "+--------------------+--------------------+----------+------+-------------+\n",
            "only showing top 20 rows\n",
            "\n"
          ]
        }
      ]
    }
  ]
}